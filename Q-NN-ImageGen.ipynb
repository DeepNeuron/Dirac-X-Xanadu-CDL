{
 "cells": [
  {
   "cell_type": "code",
   "execution_count": null,
   "metadata": {
    "colab": {
     "autoexec": {
      "startup": false,
      "wait_interval": 0
     }
    },
    "colab_type": "code",
    "id": "-Mfrl8TQmdFr"
   },
   "outputs": [],
   "source": [
    "#!pip install strawberryfields"
   ]
  },
  {
   "cell_type": "code",
   "execution_count": null,
   "metadata": {
    "colab": {
     "autoexec": {
      "startup": false,
      "wait_interval": 0
     }
    },
    "colab_type": "code",
    "id": "-VHSrCcEmrlD"
   },
   "outputs": [],
   "source": [
    "import strawberryfields as sf\n",
    "from strawberryfields.ops import *\n",
    "from strawberryfields.utils import *\n",
    "\n",
    "#eng, q = sf.Engine(2)"
   ]
  },
  {
   "cell_type": "code",
   "execution_count": null,
   "metadata": {
    "colab": {
     "autoexec": {
      "startup": false,
      "wait_interval": 0
     }
    },
    "colab_type": "code",
    "id": "Dk7yFBF8nhmw"
   },
   "outputs": [],
   "source": [
    "import tensorflow as tf\n",
    "import matplotlib.pyplot as plt\n",
    "from mpl_toolkits.mplot3d import Axes3D"
   ]
  },
  {
   "cell_type": "code",
   "execution_count": 36,
   "metadata": {
    "colab": {
     "autoexec": {
      "startup": false,
      "wait_interval": 0
     }
    },
    "colab_type": "code",
    "id": "bhvF5vRLnlcR"
   },
   "outputs": [],
   "source": [
    "# Cutoff dimension\n",
    "cutoff = 10\n",
    "\n",
    "# Number of layers\n",
    "depth = 25\n",
    "\n",
    "# Number of steps in optimization routine performing gradient descent\n",
    "reps = 1000\n",
    "\n",
    "# Penalty coefficient to ensure the state is normalized\n",
    "penalty_strength = 100\n",
    "\n",
    "# Standard deviation of initial parameters\n",
    "passive_sd = 0.1\n",
    "active_sd = 0.001"
   ]
  },
  {
   "cell_type": "code",
   "execution_count": 37,
   "metadata": {
    "colab": {
     "autoexec": {
      "startup": false,
      "wait_interval": 0
     }
    },
    "colab_type": "code",
    "id": "M3j3RZ1fnqxw"
   },
   "outputs": [],
   "source": [
    "# squeeze gate\n",
    "sq_r = tf.Variable(tf.random_normal(shape=[depth], stddev=active_sd))\n",
    "sq_phi = tf.Variable(tf.random_normal(shape=[depth], stddev=passive_sd))\n",
    "\n",
    "# displacement gate\n",
    "d_r = tf.Variable(tf.random_normal(shape=[depth], stddev=active_sd))\n",
    "d_phi = tf.Variable(tf.random_normal(shape=[depth], stddev=passive_sd))\n",
    "\n",
    "# Beam\n",
    "b_r = tf.Variable(tf.random_normal(shape=[depth], stddev=active_sd))\n",
    "b_phi = tf.Variable(tf.random_normal(shape=[depth], stddev=passive_sd))\n",
    "\n",
    "# rotation gates\n",
    "r1 = tf.Variable(tf.random_normal(shape=[depth], stddev=passive_sd))\n",
    "r2 = tf.Variable(tf.random_normal(shape=[depth], stddev=passive_sd))\n",
    "\n",
    "# kerr gate\n",
    "kappa = tf.Variable(tf.random_normal(shape=[depth], stddev=active_sd))"
   ]
  },
  {
   "cell_type": "code",
   "execution_count": null,
   "metadata": {
    "colab": {
     "autoexec": {
      "startup": false,
      "wait_interval": 0
     }
    },
    "colab_type": "code",
    "id": "Mzr3JV5eNz7Y"
   },
   "outputs": [],
   "source": [
    "params = [r1, sq_r, sq_phi, r2,d_r, d_phi, kappa]"
   ]
  },
  {
   "cell_type": "code",
   "execution_count": null,
   "metadata": {
    "colab": {
     "autoexec": {
      "startup": false,
      "wait_interval": 0
     }
    },
    "colab_type": "code",
    "id": "3b0Y4WfQnsg-"
   },
   "outputs": [],
   "source": [
    "# layer architecture\n",
    "def layer(i, q):\n",
    "    Rgate(r1[i]) | q\n",
    "    Sgate(sq_r[i], sq_phi[i]) | q\n",
    "    Rgate(r2[i]) | q\n",
    "    Dgate(d_r[i], d_phi[i]) | q\n",
    "    Kgate(kappa[i]) | q"
   ]
  },
  {
   "cell_type": "code",
   "execution_count": null,
   "metadata": {},
   "outputs": [],
   "source": [
    "def U(i):\n",
    "    reg = [0, 1]\n",
    "\n",
    "    Rgate(r1[i]),  (reg[0])\n",
    "    Rgate(r1[i]),  (reg[1])\n",
    "    BSgate(b_r[i], b_phi[i]),  (reg[0], reg[1])\n",
    "    Rgate(r2[i]),  (reg[0])\n",
    "    Rgate(r2[i]),  (reg[1])\n",
    "    \n",
    "    Sgate(sq_r[i], sq_phi[i]), (reg[0])\n",
    "    Sgate(sq_r[i], sq_phi[i]), (reg[1])\n",
    "    \n",
    "    Rgate(r1[i]),  (reg[0])\n",
    "    Rgate(r1[i]),  (reg[1])\n",
    "    BSgate(b_r[i], b_phi[i]),  (reg[0], reg[1])\n",
    "    Rgate(r2[i]),  (reg[0])\n",
    "    Rgate(r2[i]),  (reg[1])\n",
    "    \n",
    "    Dgate(d_r[i], d_phi[i]) | reg[0]\n",
    "    Kgate(kappa[i]) | reg[0]\n",
    "    \n",
    "    Dgate(d_r[i], d_phi[i]) | reg[1]\n",
    "    Kgate(kappa[i]) | reg[1]"
   ]
  },
  {
   "cell_type": "code",
   "execution_count": null,
   "metadata": {
    "colab": {
     "autoexec": {
      "startup": false,
      "wait_interval": 0
     },
     "base_uri": "https://localhost:8080/",
     "height": 378
    },
    "colab_type": "code",
    "executionInfo": {
     "elapsed": 502,
     "status": "ok",
     "timestamp": 1532040285012,
     "user": {
      "displayName": "Oktay Göktaş",
      "photoUrl": "//lh4.googleusercontent.com/-fWwKAmbpkU0/AAAAAAAAAAI/AAAAAAAAABI/P09nNRbYhTk/s50-c-k-no/photo.jpg",
      "userId": "106144405885749143821"
     },
     "user_tz": 240
    },
    "id": "QZKzFNLrnubl",
    "outputId": "f97de48f-fc8e-469f-d9b9-bc05fc8553f7"
   },
   "outputs": [],
   "source": []
  },
  {
   "cell_type": "code",
   "execution_count": null,
   "metadata": {
    "colab": {
     "autoexec": {
      "startup": false,
      "wait_interval": 0
     },
     "base_uri": "https://localhost:8080/",
     "height": 428
    },
    "colab_type": "code",
    "executionInfo": {
     "elapsed": 544,
     "status": "ok",
     "timestamp": 1532040285599,
     "user": {
      "displayName": "Oktay Göktaş",
      "photoUrl": "//lh4.googleusercontent.com/-fWwKAmbpkU0/AAAAAAAAAAI/AAAAAAAAABI/P09nNRbYhTk/s50-c-k-no/photo.jpg",
      "userId": "106144405885749143821"
     },
     "user_tz": 240
    },
    "id": "u6ja7t72FdLX",
    "outputId": "4481dea5-0b59-4577-e08c-2dec92b98ca8"
   },
   "outputs": [],
   "source": []
  },
  {
   "cell_type": "code",
   "execution_count": null,
   "metadata": {
    "colab": {
     "autoexec": {
      "startup": false,
      "wait_interval": 0
     }
    },
    "colab_type": "code",
    "id": "M55T0yHWnwEP"
   },
   "outputs": [],
   "source": [
    "#x = [0,1,2]\n",
    "inp = tf.Variable(x)\n",
    "inp\n",
    "batch_size = len(x)"
   ]
  },
  {
   "cell_type": "code",
   "execution_count": null,
   "metadata": {
    "colab": {
     "autoexec": {
      "startup": false,
      "wait_interval": 0
     },
     "base_uri": "https://localhost:8080/",
     "height": 34
    },
    "colab_type": "code",
    "executionInfo": {
     "elapsed": 319,
     "status": "ok",
     "timestamp": 1532040286329,
     "user": {
      "displayName": "Oktay Göktaş",
      "photoUrl": "//lh4.googleusercontent.com/-fWwKAmbpkU0/AAAAAAAAAAI/AAAAAAAAABI/P09nNRbYhTk/s50-c-k-no/photo.jpg",
      "userId": "106144405885749143821"
     },
     "user_tz": 240
    },
    "id": "fHu-1A3biTgA",
    "outputId": "e411b350-97d2-41ea-8cbc-310b1b1aabf4"
   },
   "outputs": [],
   "source": []
  },
  {
   "cell_type": "code",
   "execution_count": 10,
   "metadata": {
    "colab": {
     "autoexec": {
      "startup": false,
      "wait_interval": 0
     }
    },
    "colab_type": "code",
    "id": "3cJo-gN5JV7I"
   },
   "outputs": [],
   "source": [
    "Tetris = [[1,1,1],[0,1,0],\n",
    "         [0,0,0]]"
   ]
  },
  {
   "cell_type": "code",
   "execution_count": null,
   "metadata": {},
   "outputs": [],
   "source": []
  },
  {
   "cell_type": "code",
   "execution_count": null,
   "metadata": {},
   "outputs": [],
   "source": []
  },
  {
   "cell_type": "code",
   "execution_count": 19,
   "metadata": {},
   "outputs": [
    {
     "data": {
      "text/plain": [
       "array([[0.08214343, 0.10265005, 0.06413805],\n",
       "       [0.10265006, 0.12827604, 0.08014974],\n",
       "       [0.06413804, 0.08014974, 0.05007935]], dtype=float32)"
      ]
     },
     "execution_count": 19,
     "metadata": {},
     "output_type": "execute_result"
    }
   ],
   "source": [
    "Out_Mat = np.abs(probs[:3, :3])\n",
    "Out_Mat"
   ]
  },
  {
   "cell_type": "code",
   "execution_count": null,
   "metadata": {},
   "outputs": [],
   "source": []
  },
  {
   "cell_type": "code",
   "execution_count": 20,
   "metadata": {},
   "outputs": [
    {
     "data": {
      "text/plain": [
       "-3.2456254959106445"
      ]
     },
     "execution_count": 20,
     "metadata": {},
     "output_type": "execute_result"
    }
   ],
   "source": [
    "np.sum(Out_Mat - Tetris)\n"
   ]
  },
  {
   "cell_type": "code",
   "execution_count": null,
   "metadata": {},
   "outputs": [],
   "source": [
    "loss = tf.reduce_sum(Out_Mat - Tetris)\n",
    "loss"
   ]
  },
  {
   "cell_type": "code",
   "execution_count": null,
   "metadata": {},
   "outputs": [],
   "source": [
    "print(abs(probs[0][1,1]) )"
   ]
  },
  {
   "cell_type": "code",
   "execution_count": null,
   "metadata": {},
   "outputs": [],
   "source": [
    "d = sess.run(prob)"
   ]
  },
  {
   "cell_type": "code",
   "execution_count": null,
   "metadata": {},
   "outputs": [],
   "source": [
    "probs[1,1]"
   ]
  },
  {
   "cell_type": "code",
   "execution_count": null,
   "metadata": {},
   "outputs": [],
   "source": [
    "#actual\n",
    "\n",
    "\n",
    "engine, q = sf.Engine(2)\n",
    "with engine:\n",
    "    Coherent(1+0.5j) | q[0] \n",
    "    Coherent(1+0.5j) | q[1] \n",
    "    Dgate(0) | q[0]\n",
    "    Dgate(0) | q[1]\n",
    "    for k in range(25):\n",
    "\n",
    "        U(k)\n",
    "\n",
    "# Run engine\n",
    "\n",
    "\n",
    "state = engine.run('tf', cutoff_dim=cutoff, eval=False)\n",
    "#ket = state.ket()\n",
    "\n",
    "#prob = state.fock_prob([1])\n",
    "probs = state.all_fock_probs()\n",
    "\n",
    "Out_Mat = np.abs(probs[:3, :3])\n",
    "\n",
    "loss = tf.reduce_sum(np.abs((Out_Mat - Tetris) ) )\n",
    "#loss = tf.reduce_sum(np.abs((np.trace(Out_Mat) - np.trace(Tetris) ) ))\n",
    "\n",
    "\n",
    "sess = tf.Session()\n",
    "sess.run(tf.global_variables_initializer())    \n",
    "optimizer = tf.train.GradientDescentOptimizer(learning_rate=0.1)\n",
    "minimize_op = optimizer.minimize(loss)\n",
    "\n",
    "\n",
    "# Run optimization\n",
    "reps = 5\n",
    "\n",
    "for i in range(reps):\n",
    "\n",
    "    # one repitition of the optimization\n",
    "    _, loss_val, Out_Mat_val = sess.run([minimize_op, loss,  Out_Mat])\n",
    "\n",
    "    # Stores fidelity at each step\n"
   ]
  },
  {
   "cell_type": "code",
   "execution_count": null,
   "metadata": {
    "colab": {
     "autoexec": {
      "startup": false,
      "wait_interval": 0
     }
    },
    "colab_type": "code",
    "id": "_CKJRPYKnx95"
   },
   "outputs": [],
   "source": []
  },
  {
   "cell_type": "code",
   "execution_count": 29,
   "metadata": {},
   "outputs": [
    {
     "data": {
      "text/plain": [
       "array([[0.08183022, 0.10241499, 0.06408896],\n",
       "       [0.102415  , 0.128178  , 0.08021085],\n",
       "       [0.06408898, 0.08021085, 0.05019412]], dtype=float32)"
      ]
     },
     "execution_count": 29,
     "metadata": {},
     "output_type": "execute_result"
    }
   ],
   "source": [
    "Out_Mat"
   ]
  },
  {
   "cell_type": "code",
   "execution_count": null,
   "metadata": {},
   "outputs": [],
   "source": []
  },
  {
   "cell_type": "code",
   "execution_count": null,
   "metadata": {},
   "outputs": [],
   "source": []
  },
  {
   "cell_type": "code",
   "execution_count": null,
   "metadata": {},
   "outputs": [],
   "source": []
  },
  {
   "cell_type": "code",
   "execution_count": null,
   "metadata": {},
   "outputs": [],
   "source": []
  },
  {
   "cell_type": "code",
   "execution_count": null,
   "metadata": {},
   "outputs": [],
   "source": [
    "fig, ax1 = plt.subplots()\n",
    "ax1.plot(cum_Err_dict['depth'], cum_Err_dict['Err'] ,'.' , c= 'red' )\n",
    "\n",
    "ax1.set_xlabel('Depth', fontsize=12)\n",
    "ax1.set_ylabel('Err', fontsize=12)\n",
    "#ax.set_title('500 Repetation')\n",
    "ax1.set_xlim(0, 12)\n",
    "ax1.set_ylim(0, 100)\n",
    "\n",
    "ax1.axis('tight')\n",
    "plt.savefig('8_Out_of_Range_Predicted.jpg')\n",
    "plt.show()"
   ]
  },
  {
   "cell_type": "code",
   "execution_count": null,
   "metadata": {},
   "outputs": [],
   "source": [
    "fig, ax = plt.subplots()\n",
    "ax.plot(x, (y)  ,'.' , c= 'red', label='Actual Data' )\n",
    "ax.plot(x, y_actual  ,'-' , c= 'green', label='Actual Function' )\n",
    "ax.plot(x_test, y_All[8]['y_test_predicted_2']  ,'*', label='Aproximated Function'  )\n",
    "ax.set_xlabel('Train Data', fontsize=12)\n",
    "ax.set_ylabel('f(x)', fontsize=12)\n",
    "ax.set_title('500 Repetation')\n",
    "legend = ax.legend(loc=[0.5,0.1], shadow=True, fontsize=10)\n",
    "ax.axis('tight')\n",
    "plt.savefig('8_Out_of_Range_Predicted.jpg')\n",
    "plt.show()"
   ]
  },
  {
   "cell_type": "code",
   "execution_count": null,
   "metadata": {
    "colab": {
     "autoexec": {
      "startup": false,
      "wait_interval": 0
     },
     "base_uri": "https://localhost:8080/",
     "height": 34
    },
    "colab_type": "code",
    "executionInfo": {
     "elapsed": 239,
     "status": "ok",
     "timestamp": 1532038152611,
     "user": {
      "displayName": "Oktay Göktaş",
      "photoUrl": "//lh4.googleusercontent.com/-fWwKAmbpkU0/AAAAAAAAAAI/AAAAAAAAABI/P09nNRbYhTk/s50-c-k-no/photo.jpg",
      "userId": "106144405885749143821"
     },
     "user_tz": 240
    },
    "id": "nC5EjtRZldQj",
    "outputId": "af0f4218-73da-4d9f-ec8c-606bda8c5417"
   },
   "outputs": [],
   "source": [
    "\n"
   ]
  },
  {
   "cell_type": "code",
   "execution_count": null,
   "metadata": {
    "colab": {
     "autoexec": {
      "startup": false,
      "wait_interval": 0
     },
     "base_uri": "https://localhost:8080/",
     "height": 34
    },
    "colab_type": "code",
    "executionInfo": {
     "elapsed": 276,
     "status": "ok",
     "timestamp": 1532037479198,
     "user": {
      "displayName": "Oktay Göktaş",
      "photoUrl": "//lh4.googleusercontent.com/-fWwKAmbpkU0/AAAAAAAAAAI/AAAAAAAAABI/P09nNRbYhTk/s50-c-k-no/photo.jpg",
      "userId": "106144405885749143821"
     },
     "user_tz": 240
    },
    "id": "dxJ6fvRUOr0l",
    "outputId": "ec70193b-16aa-4893-e7a0-07acff6c1881"
   },
   "outputs": [],
   "source": [
    "params[0].shape"
   ]
  },
  {
   "cell_type": "code",
   "execution_count": null,
   "metadata": {
    "colab": {
     "autoexec": {
      "startup": false,
      "wait_interval": 0
     },
     "base_uri": "https://localhost:8080/",
     "height": 454
    },
    "colab_type": "code",
    "executionInfo": {
     "elapsed": 248,
     "status": "ok",
     "timestamp": 1532037485423,
     "user": {
      "displayName": "Oktay Göktaş",
      "photoUrl": "//lh4.googleusercontent.com/-fWwKAmbpkU0/AAAAAAAAAAI/AAAAAAAAABI/P09nNRbYhTk/s50-c-k-no/photo.jpg",
      "userId": "106144405885749143821"
     },
     "user_tz": 240
    },
    "id": "JntJ3JtMoXYX",
    "outputId": "3a7c543b-801c-443a-d329-d8f500dd9f14"
   },
   "outputs": [],
   "source": [
    "expectation_val\n"
   ]
  },
  {
   "cell_type": "code",
   "execution_count": null,
   "metadata": {
    "colab": {
     "autoexec": {
      "startup": false,
      "wait_interval": 0
     }
    },
    "colab_type": "code",
    "id": "vX9JjwSJJywW"
   },
   "outputs": [],
   "source": []
  }
 ],
 "metadata": {
  "colab": {
   "default_view": {},
   "name": "Hackaton-colab-v202.ipynb",
   "provenance": [
    {
     "file_id": "1IWpC1KWJvyj01LkWaajRXN0mqI_Q3jY5",
     "timestamp": 1532036754851
    }
   ],
   "version": "0.3.2",
   "views": {}
  },
  "kernelspec": {
   "display_name": "Python 3",
   "language": "python",
   "name": "python3"
  },
  "language_info": {
   "codemirror_mode": {
    "name": "ipython",
    "version": 3
   },
   "file_extension": ".py",
   "mimetype": "text/x-python",
   "name": "python",
   "nbconvert_exporter": "python",
   "pygments_lexer": "ipython3",
   "version": "3.6.3"
  }
 },
 "nbformat": 4,
 "nbformat_minor": 1
}
